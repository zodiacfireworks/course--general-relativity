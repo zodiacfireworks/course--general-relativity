{
 "cells": [
  {
   "cell_type": "markdown",
   "metadata": {},
   "source": [
    "<div class=\"clearfix\" style=\"padding: 10px; padding-left: 0px\">\n",
    "<img src=\"resources/img/softbutterfly-logo.png\" class=\"pull-left\" style=\"display: block; height: 40px; margin: 0;\"><img src=\"resources/img/jupyter-logo.png\" class=\"pull-right\"  style=\"display: block; height: 20px; margin-top: 10px;\">\n",
    "</div>"
   ]
  },
  {
   "cell_type": "markdown",
   "metadata": {},
   "source": [
    "<h1>Introduction to General Relativity</h1>"
   ]
  },
  {
   "cell_type": "markdown",
   "metadata": {
    "collapsed": true
   },
   "source": [
    "<h2>Connections</h2>"
   ]
  },
  {
   "cell_type": "markdown",
   "metadata": {
    "collapsed": true
   },
   "source": [
    "Let us see how the conection $\\Gamma^{\\alpha}_{\\ \\beta\\gamma}$ depends from coordinate system,\n",
    "\n",
    "We have a Minkowski space-time which is tangent to the manifold.\n",
    "\n",
    "Since Minkowski space-time is flat:\n",
    "\n",
    "$$ \\frac{d^2\\zeta}{d\\tau^2} = 0\\ \\wedge\\ \\zeta^\\alpha = a^{\\alpha} \\tau + b^{\\alpha}$$\n",
    "\n",
    "At the tangen point $P$ we have $\\zeta ^ {\\beta} = \\zeta ^ {\\beta} (x)$ and  $x ^ {\\alpha} = x ^ {\\alpha} (\\zeta)$"
   ]
  },
  {
   "cell_type": "code",
   "execution_count": 1,
   "metadata": {
    "collapsed": true
   },
   "outputs": [],
   "source": [
    "from sympy import *\n",
    "from gravipy import *\n",
    "\n",
    "init_printing('unicode')"
   ]
  },
  {
   "cell_type": "code",
   "execution_count": 2,
   "metadata": {
    "scrolled": false
   },
   "outputs": [
    {
     "data": {
      "image/png": "[encoded data removed]",
      "text/latex": [
       "$$\\left [ t, \\quad r, \\quad \\theta, \\quad \\phi\\right ]$$"
      ],
      "text/plain": [
       "[t, r, θ, φ]"
      ]
     },
     "execution_count": 2,
     "metadata": {},
     "output_type": "execute_result"
    }
   ],
   "source": [
    "t , r , theta , phi , M = symbols ('t , r , theta , phi , M ')\n",
    "x = Coordinates('\\chi', [t , r , theta, phi])\n",
    "x.c"
   ]
  },
  {
   "cell_type": "code",
   "execution_count": 3,
   "metadata": {},
   "outputs": [
    {
     "data": {
      "image/png": "[encoded data removed]",
      "text/latex": [
       "$$\\left[\\begin{matrix}- \\frac{2 \\overline{M}}{\\overline{r}} + 1 & 0 & 0 & 0\\\\0 & - \\frac{1}{- \\frac{2 \\overline{M}}{\\overline{r}} + 1} & 0 & 0\\\\0 & 0 & - \\overline{r}^{2} & 0\\\\0 & 0 & 0 & - \\sin^{2}{\\left (\\overline{\\theta} \\right )} \\overline{r}^{2}\\end{matrix}\\right]$$"
      ],
      "text/plain": [
       "⎡    _                                 ⎤\n",
       "⎢  2⋅M                                 ⎥\n",
       "⎢- ─── + 1      0       0        0     ⎥\n",
       "⎢   _                                  ⎥\n",
       "⎢   r                                  ⎥\n",
       "⎢                                      ⎥\n",
       "⎢              -1                      ⎥\n",
       "⎢    0      ─────────   0        0     ⎥\n",
       "⎢               _                      ⎥\n",
       "⎢             2⋅M                      ⎥\n",
       "⎢           - ─── + 1                  ⎥\n",
       "⎢              _                       ⎥\n",
       "⎢              r                       ⎥\n",
       "⎢                                      ⎥\n",
       "⎢                        2             ⎥\n",
       "⎢                       _              ⎥\n",
       "⎢    0          0      -r        0     ⎥\n",
       "⎢                                      ⎥\n",
       "⎢                                     2⎥\n",
       "⎢                               2⎛_⎞ _ ⎥\n",
       "⎣    0          0       0   -sin ⎝θ⎠⋅r ⎦"
      ]
     },
     "execution_count": 3,
     "metadata": {},
     "output_type": "execute_result"
    }
   ],
   "source": [
    "Metric = diag ((1 - 2 * M / r ) , -1 / (1 - 2 * M / r ) , -r ** 2 , -r ** 2 * sin(theta) ** 2)\n",
    "Metric.C"
   ]
  },
  {
   "cell_type": "code",
   "execution_count": 4,
   "metadata": {},
   "outputs": [
    {
     "data": {
      "image/png": "[encoded data removed]",
      "text/latex": [
       "$$\\left[\\begin{matrix}t \\left(- \\frac{2 M}{r} + 1\\right) & t \\left(- \\frac{2 M}{r} + 1\\right) & t \\left(- \\frac{2 M}{r} + 1\\right) & t \\left(- \\frac{2 M}{r} + 1\\right)\\\\- \\frac{r}{- \\frac{2 M}{r} + 1} & - \\frac{r}{- \\frac{2 M}{r} + 1} & - \\frac{r}{- \\frac{2 M}{r} + 1} & - \\frac{r}{- \\frac{2 M}{r} + 1}\\\\- r^{2} \\theta & - r^{2} \\theta & - r^{2} \\theta & - r^{2} \\theta\\\\- \\phi r^{2} \\sin^{2}{\\left (\\theta \\right )} & - \\phi r^{2} \\sin^{2}{\\left (\\theta \\right )} & - \\phi r^{2} \\sin^{2}{\\left (\\theta \\right )} & - \\phi r^{2} \\sin^{2}{\\left (\\theta \\right )}\\end{matrix}\\right]$$"
      ],
      "text/plain": [
       "⎡  ⎛  2⋅M    ⎞    ⎛  2⋅M    ⎞    ⎛  2⋅M    ⎞    ⎛  2⋅M    ⎞⎤\n",
       "⎢t⋅⎜- ─── + 1⎟  t⋅⎜- ─── + 1⎟  t⋅⎜- ─── + 1⎟  t⋅⎜- ─── + 1⎟⎥\n",
       "⎢  ⎝   r     ⎠    ⎝   r     ⎠    ⎝   r     ⎠    ⎝   r     ⎠⎥\n",
       "⎢                                                          ⎥\n",
       "⎢     -r             -r             -r             -r      ⎥\n",
       "⎢  ─────────      ─────────      ─────────      ─────────  ⎥\n",
       "⎢    2⋅M            2⋅M            2⋅M            2⋅M      ⎥\n",
       "⎢  - ─── + 1      - ─── + 1      - ─── + 1      - ─── + 1  ⎥\n",
       "⎢     r              r              r              r       ⎥\n",
       "⎢                                                          ⎥\n",
       "⎢      2              2              2              2      ⎥\n",
       "⎢    -r ⋅θ          -r ⋅θ          -r ⋅θ          -r ⋅θ    ⎥\n",
       "⎢                                                          ⎥\n",
       "⎢    2    2         2    2         2    2         2    2   ⎥\n",
       "⎣-φ⋅r ⋅sin (θ)  -φ⋅r ⋅sin (θ)  -φ⋅r ⋅sin (θ)  -φ⋅r ⋅sin (θ)⎦"
      ]
     },
     "execution_count": 4,
     "metadata": {},
     "output_type": "execute_result"
    }
   ],
   "source": [
    "g = MetricTensor ('g', x , Metric )\n",
    "g.coords(All)"
   ]
  },
  {
   "cell_type": "code",
   "execution_count": 128,
   "metadata": {},
   "outputs": [
    {
     "data": {
      "image/png": "[encoded data removed]",
      "text/latex": [
       "$$\\left[\\begin{matrix}\\left[\\begin{matrix}0 & 0 & 0 & 0\\\\\\frac{M}{r^{2}} & \\frac{M}{r^{2}} & \\frac{M}{r^{2}} & \\frac{M}{r^{2}}\\\\0 & 0 & 0 & 0\\\\0 & 0 & 0 & 0\\end{matrix}\\right] & \\left[\\begin{matrix}\\frac{M}{r^{2}} & \\frac{M}{r^{2}} & \\frac{M}{r^{2}} & \\frac{M}{r^{2}}\\\\0 & 0 & 0 & 0\\\\0 & 0 & 0 & 0\\\\0 & 0 & 0 & 0\\end{matrix}\\right] & \\left[\\begin{matrix}0 & 0 & 0 & 0\\\\0 & 0 & 0 & 0\\\\0 & 0 & 0 & 0\\\\0 & 0 & 0 & 0\\end{matrix}\\right] & \\left[\\begin{matrix}0 & 0 & 0 & 0\\\\0 & 0 & 0 & 0\\\\0 & 0 & 0 & 0\\\\0 & 0 & 0 & 0\\end{matrix}\\right]\\\\\\left[\\begin{matrix}- \\frac{M}{r^{2}} & - \\frac{M}{r^{2}} & - \\frac{M}{r^{2}} & - \\frac{M}{r^{2}}\\\\0 & 0 & 0 & 0\\\\0 & 0 & 0 & 0\\\\0 & 0 & 0 & 0\\end{matrix}\\right] & \\left[\\begin{matrix}0 & 0 & 0 & 0\\\\\\frac{M}{\\left(2 M - r\\right)^{2}} & \\frac{M}{\\left(2 M - r\\right)^{2}} & \\frac{M}{\\left(2 M - r\\right)^{2}} & \\frac{M}{\\left(2 M - r\\right)^{2}}\\\\0 & 0 & 0 & 0\\\\0 & 0 & 0 & 0\\end{matrix}\\right] & \\left[\\begin{matrix}0 & 0 & 0 & 0\\\\0 & 0 & 0 & 0\\\\r & r & r & r\\\\0 & 0 & 0 & 0\\end{matrix}\\right] & \\left[\\begin{matrix}0 & 0 & 0 & 0\\\\0 & 0 & 0 & 0\\\\0 & 0 & 0 & 0\\\\r \\sin^{2}{\\left (\\theta \\right )} & r \\sin^{2}{\\left (\\theta \\right )} & r \\sin^{2}{\\left (\\theta \\right )} & r \\sin^{2}{\\left (\\theta \\right )}\\end{matrix}\\right]\\\\\\left[\\begin{matrix}0 & 0 & 0 & 0\\\\0 & 0 & 0 & 0\\\\0 & 0 & 0 & 0\\\\0 & 0 & 0 & 0\\end{matrix}\\right] & \\left[\\begin{matrix}0 & 0 & 0 & 0\\\\0 & 0 & 0 & 0\\\\- r & - r & - r & - r\\\\0 & 0 & 0 & 0\\end{matrix}\\right] & \\left[\\begin{matrix}0 & 0 & 0 & 0\\\\- r & - r & - r & - r\\\\0 & 0 & 0 & 0\\\\0 & 0 & 0 & 0\\end{matrix}\\right] & \\left[\\begin{matrix}0 & 0 & 0 & 0\\\\0 & 0 & 0 & 0\\\\0 & 0 & 0 & 0\\\\\\frac{r^{2}}{2} \\sin{\\left (2 \\theta \\right )} & \\frac{r^{2}}{2} \\sin{\\left (2 \\theta \\right )} & \\frac{r^{2}}{2} \\sin{\\left (2 \\theta \\right )} & \\frac{r^{2}}{2} \\sin{\\left (2 \\theta \\right )}\\end{matrix}\\right]\\\\\\left[\\begin{matrix}0 & 0 & 0 & 0\\\\0 & 0 & 0 & 0\\\\0 & 0 & 0 & 0\\\\0 & 0 & 0 & 0\\end{matrix}\\right] & \\left[\\begin{matrix}0 & 0 & 0 & 0\\\\0 & 0 & 0 & 0\\\\0 & 0 & 0 & 0\\\\- r \\sin^{2}{\\left (\\theta \\right )} & - r \\sin^{2}{\\left (\\theta \\right )} & - r \\sin^{2}{\\left (\\theta \\right )} & - r \\sin^{2}{\\left (\\theta \\right )}\\end{matrix}\\right] & \\left[\\begin{matrix}0 & 0 & 0 & 0\\\\0 & 0 & 0 & 0\\\\0 & 0 & 0 & 0\\\\- \\frac{r^{2}}{2} \\sin{\\left (2 \\theta \\right )} & - \\frac{r^{2}}{2} \\sin{\\left (2 \\theta \\right )} & - \\frac{r^{2}}{2} \\sin{\\left (2 \\theta \\right )} & - \\frac{r^{2}}{2} \\sin{\\left (2 \\theta \\right )}\\end{matrix}\\right] & \\left[\\begin{matrix}0 & 0 & 0 & 0\\\\- r \\sin^{2}{\\left (\\theta \\right )} & - r \\sin^{2}{\\left (\\theta \\right )} & - r \\sin^{2}{\\left (\\theta \\right )} & - r \\sin^{2}{\\left (\\theta \\right )}\\\\- \\frac{r^{2}}{2} \\sin{\\left (2 \\theta \\right )} & - \\frac{r^{2}}{2} \\sin{\\left (2 \\theta \\right )} & - \\frac{r^{2}}{2} \\sin{\\left (2 \\theta \\right )} & - \\frac{r^{2}}{2} \\sin{\\left (2 \\theta \\right )}\\\\0 & 0 & 0 & 0\\end{matrix}\\right]\\end{matrix}\\right]$$"
      ],
      "text/plain": [
       "⎡                                      ⎡M   M   M   M ⎤                       \n",
       "⎢  ⎡0   0   0   0 ⎤                    ⎢──  ──  ──  ──⎥                       \n",
       "⎢  ⎢              ⎥                    ⎢ 2   2   2   2⎥                       \n",
       "⎢  ⎢M   M   M   M ⎥                    ⎢r   r   r   r ⎥                       \n",
       "⎢  ⎢──  ──  ──  ──⎥                    ⎢              ⎥                       \n",
       "⎢  ⎢ 2   2   2   2⎥                    ⎢0   0   0   0 ⎥                       \n",
       "⎢  ⎢r   r   r   r ⎥                    ⎢              ⎥                       \n",
       "⎢  ⎢              ⎥                    ⎢0   0   0   0 ⎥                       \n",
       "⎢  ⎢0   0   0   0 ⎥                    ⎢              ⎥                       \n",
       "⎢  ⎢              ⎥                    ⎣0   0   0   0 ⎦                       \n",
       "⎢  ⎣0   0   0   0 ⎦                                                           \n",
       "⎢                                                                             \n",
       "⎢⎡-M   -M   -M   -M ⎤                                                         \n",
       "⎢⎢───  ───  ───  ───⎥  ⎡    0           0           0           0     ⎤       \n",
       "⎢⎢  2    2    2    2⎥  ⎢                                              ⎥       \n",
       "⎢⎢ r    r    r    r ⎥  ⎢    M           M           M           M     ⎥       \n",
       "⎢⎢                  ⎥  ⎢──────────  ──────────  ──────────  ──────────⎥       \n",
       "⎢⎢ 0    0    0    0 ⎥  ⎢         2           2           2           2⎥       \n",
       "⎢⎢                  ⎥  ⎢(2⋅M - r)   (2⋅M - r)   (2⋅M - r)   (2⋅M - r) ⎥       \n",
       "⎢⎢ 0    0    0    0 ⎥  ⎢                                              ⎥       \n",
       "⎢⎢                  ⎥  ⎢    0           0           0           0     ⎥       \n",
       "⎢⎣ 0    0    0    0 ⎦  ⎢                                              ⎥       \n",
       "⎢                      ⎣    0           0           0           0     ⎦       \n",
       "⎢                                                                             \n",
       "⎢    ⎡0  0  0  0⎤                      ⎡0   0   0   0 ⎤                       \n",
       "⎢    ⎢          ⎥                      ⎢              ⎥                       \n",
       "⎢    ⎢0  0  0  0⎥                      ⎢0   0   0   0 ⎥                       \n",
       "⎢    ⎢          ⎥                      ⎢              ⎥                       \n",
       "⎢    ⎢0  0  0  0⎥                      ⎢-r  -r  -r  -r⎥                       \n",
       "⎢    ⎢          ⎥                      ⎢              ⎥                       \n",
       "⎢    ⎣0  0  0  0⎦                      ⎣0   0   0   0 ⎦                       \n",
       "⎢                                                                             \n",
       "⎢                                                                             \n",
       "⎢                                                                             \n",
       "⎢                                                                             \n",
       "⎢    ⎡0  0  0  0⎤      ⎡    0           0           0           0     ⎤  ⎡    \n",
       "⎢    ⎢          ⎥      ⎢                                              ⎥  ⎢    \n",
       "⎢    ⎢0  0  0  0⎥      ⎢    0           0           0           0     ⎥  ⎢    \n",
       "⎢    ⎢          ⎥      ⎢                                              ⎥  ⎢    \n",
       "⎢    ⎢0  0  0  0⎥      ⎢    0           0           0           0     ⎥  ⎢    \n",
       "⎢    ⎢          ⎥      ⎢                                              ⎥  ⎢    \n",
       "⎢    ⎣0  0  0  0⎦      ⎢      2           2           2           2   ⎥  ⎢  2 \n",
       "⎢                      ⎣-r⋅sin (θ)  -r⋅sin (θ)  -r⋅sin (θ)  -r⋅sin (θ)⎦  ⎢-r ⋅\n",
       "⎢                                                                        ⎢────\n",
       "⎢                                                                        ⎣    \n",
       "⎣                                                                             \n",
       "\n",
       "                                                                              \n",
       "                   ⎡0  0  0  0⎤                                               \n",
       "                   ⎢          ⎥                                               \n",
       "                   ⎢0  0  0  0⎥                                               \n",
       "                   ⎢          ⎥                                               \n",
       "                   ⎢0  0  0  0⎥                                               \n",
       "                   ⎢          ⎥                                               \n",
       "                   ⎣0  0  0  0⎦                                               \n",
       "                                                                              \n",
       "                                                                              \n",
       "                                                                              \n",
       "                                                                              \n",
       "                                                                              \n",
       "                   ⎡0  0  0  0⎤                                  ⎡    0       \n",
       "                   ⎢          ⎥                                  ⎢            \n",
       "                   ⎢0  0  0  0⎥                                  ⎢    0       \n",
       "                   ⎢          ⎥                                  ⎢            \n",
       "                   ⎢r  r  r  r⎥                                  ⎢    0       \n",
       "                   ⎢          ⎥                                  ⎢            \n",
       "                   ⎣0  0  0  0⎦                                  ⎢     2      \n",
       "                                                                 ⎣r⋅sin (θ)  r\n",
       "                                                                              \n",
       "                                                                              \n",
       "                                                                              \n",
       "                 ⎡0   0   0   0 ⎤                            ⎡     0          \n",
       "                 ⎢              ⎥                            ⎢                \n",
       "                 ⎢-r  -r  -r  -r⎥                            ⎢     0          \n",
       "                 ⎢              ⎥                            ⎢                \n",
       "                 ⎢0   0   0   0 ⎥                            ⎢     0          \n",
       "                 ⎢              ⎥                            ⎢                \n",
       "                 ⎣0   0   0   0 ⎦                            ⎢ 2            2 \n",
       "                                                             ⎢r ⋅sin(2⋅θ)  r ⋅\n",
       "                                                             ⎢───────────  ───\n",
       "                                                             ⎣     2          \n",
       "                                                                              \n",
       "  0              0              0              0      ⎤  ⎡      0             \n",
       "                                                      ⎥  ⎢                    \n",
       "  0              0              0              0      ⎥  ⎢       2            \n",
       "                                                      ⎥  ⎢ -r⋅sin (θ)     -r⋅s\n",
       "  0              0              0              0      ⎥  ⎢                    \n",
       "                                                      ⎥  ⎢  2              2  \n",
       "             2              2              2          ⎥  ⎢-r ⋅sin(2⋅θ)   -r ⋅s\n",
       "sin(2⋅θ)   -r ⋅sin(2⋅θ)   -r ⋅sin(2⋅θ)   -r ⋅sin(2⋅θ) ⎥  ⎢─────────────  ─────\n",
       "─────────  ─────────────  ─────────────  ─────────────⎥  ⎢      2             \n",
       "  2              2              2              2      ⎦  ⎢                    \n",
       "                                                         ⎣      0             \n",
       "\n",
       "                                       ⎤\n",
       "   ⎡0  0  0  0⎤                        ⎥\n",
       "   ⎢          ⎥                        ⎥\n",
       "   ⎢0  0  0  0⎥                        ⎥\n",
       "   ⎢          ⎥                        ⎥\n",
       "   ⎢0  0  0  0⎥                        ⎥\n",
       "   ⎢          ⎥                        ⎥\n",
       "   ⎣0  0  0  0⎦                        ⎥\n",
       "                                       ⎥\n",
       "                                       ⎥\n",
       "                                       ⎥\n",
       "                                       ⎥\n",
       "                                       ⎥\n",
       "   0          0          0    ⎤        ⎥\n",
       "                              ⎥        ⎥\n",
       "   0          0          0    ⎥        ⎥\n",
       "                              ⎥        ⎥\n",
       "   0          0          0    ⎥        ⎥\n",
       "                              ⎥        ⎥\n",
       "    2          2          2   ⎥        ⎥\n",
       "⋅sin (θ)  r⋅sin (θ)  r⋅sin (θ)⎦        ⎥\n",
       "                                       ⎥\n",
       "                                       ⎥\n",
       "                                       ⎥\n",
       "  0            0            0     ⎤    ⎥\n",
       "                                  ⎥    ⎥\n",
       "  0            0            0     ⎥    ⎥\n",
       "                                  ⎥    ⎥\n",
       "  0            0            0     ⎥    ⎥\n",
       "                                  ⎥    ⎥\n",
       "           2            2         ⎥    ⎥\n",
       "sin(2⋅θ)  r ⋅sin(2⋅θ)  r ⋅sin(2⋅θ)⎥    ⎥\n",
       "────────  ───────────  ───────────⎥    ⎥\n",
       "  2            2            2     ⎦    ⎥\n",
       "                                       ⎥\n",
       " 0              0              0      ⎤⎥\n",
       "                                      ⎥⎥\n",
       "  2              2              2     ⎥⎥\n",
       "in (θ)     -r⋅sin (θ)     -r⋅sin (θ)  ⎥⎥\n",
       "                                      ⎥⎥\n",
       "            2              2          ⎥⎥\n",
       "in(2⋅θ)   -r ⋅sin(2⋅θ)   -r ⋅sin(2⋅θ) ⎥⎥\n",
       "────────  ─────────────  ─────────────⎥⎥\n",
       " 2              2              2      ⎥⎥\n",
       "                                      ⎥⎥\n",
       " 0              0              0      ⎦⎦"
      ]
     },
     "execution_count": 128,
     "metadata": {},
     "output_type": "execute_result"
    }
   ],
   "source": [
    "Gamma = Christoffel('\\Gamma', g)\n",
    "Gamma(All, All, All)"
   ]
  },
  {
   "cell_type": "code",
   "execution_count": 129,
   "metadata": {},
   "outputs": [
    {
     "data": {
      "image/png": "[encoded data removed]",
      "text/latex": [
       "$$\\left[\\begin{matrix}0 & 0 & 0 & 0\\\\0 & 0 & 0 & 0\\\\0 & 0 & 0 & 0\\\\0 & 0 & 0 & 0\\end{matrix}\\right]$$"
      ],
      "text/plain": [
       "⎡0  0  0  0⎤\n",
       "⎢          ⎥\n",
       "⎢0  0  0  0⎥\n",
       "⎢          ⎥\n",
       "⎢0  0  0  0⎥\n",
       "⎢          ⎥\n",
       "⎣0  0  0  0⎦"
      ]
     },
     "execution_count": 129,
     "metadata": {},
     "output_type": "execute_result"
    }
   ],
   "source": [
    "R = Ricci('R', g)\n",
    "R(All, All)"
   ]
  },
  {
   "cell_type": "code",
   "execution_count": 130,
   "metadata": {},
   "outputs": [
    {
     "data": {
      "image/png": "[encoded data removed]",
      "text/latex": [
       "$$\\left[\\begin{matrix}0 & 0 & 0 & 0\\\\0 & 0 & 0 & 0\\\\0 & 0 & 0 & 0\\\\0 & 0 & 0 & 0\\end{matrix}\\right]$$"
      ],
      "text/plain": [
       "⎡0  0  0  0⎤\n",
       "⎢          ⎥\n",
       "⎢0  0  0  0⎥\n",
       "⎢          ⎥\n",
       "⎢0  0  0  0⎥\n",
       "⎢          ⎥\n",
       "⎣0  0  0  0⎦"
      ]
     },
     "execution_count": 130,
     "metadata": {},
     "output_type": "execute_result"
    }
   ],
   "source": [
    "G = Einstein('G', R)\n",
    "G(All, All)"
   ]
  },
  {
   "cell_type": "code",
   "execution_count": null,
   "metadata": {
    "collapsed": true
   },
   "outputs": [],
   "source": []
  }
 ],
 "metadata": {
  "kernelspec": {
   "display_name": "Python 3",
   "language": "python",
   "name": "python3"
  },
  "language_info": {
   "codemirror_mode": {
    "name": "ipython",
    "version": 3
   },
   "file_extension": ".py",
   "mimetype": "text/x-python",
   "name": "python",
   "nbconvert_exporter": "python",
   "pygments_lexer": "ipython3",
   "version": "3.6.1"
  }
 },
 "nbformat": 4,
 "nbformat_minor": 2
}
